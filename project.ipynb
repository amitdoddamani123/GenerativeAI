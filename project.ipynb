{
  "nbformat": 4,
  "nbformat_minor": 0,
  "metadata": {
    "colab": {
      "provenance": []
    },
    "kernelspec": {
      "name": "python3",
      "display_name": "Python 3"
    },
    "language_info": {
      "name": "python"
    }
  },
  "cells": [
    {
      "cell_type": "code",
      "source": [
        "from google.colab import drive\n",
        "\n",
        "drive.mount('/content/gdrive')\n",
        "\n",
        "%cd gdrive/My Drive"
      ],
      "metadata": {
        "colab": {
          "base_uri": "https://localhost:8080/"
        },
        "id": "mev0GxjBEnhh",
        "outputId": "6e34c2e7-4b52-4077-9cf5-ee634f65cbbf"
      },
      "execution_count": null,
      "outputs": [
        {
          "output_type": "stream",
          "name": "stdout",
          "text": [
            "Mounted at /content/gdrive\n",
            "/content/gdrive/My Drive\n"
          ]
        }
      ]
    },
    {
      "cell_type": "code",
      "source": [
        "!pip install transformers\n",
        "\n",
        "!pip install sentencepiece"
      ],
      "metadata": {
        "colab": {
          "base_uri": "https://localhost:8080/"
        },
        "id": "y5rHKPb4QYc4",
        "outputId": "c76d57ea-8a35-4cfb-b572-cbe117ec07b5"
      },
      "execution_count": null,
      "outputs": [
        {
          "output_type": "stream",
          "name": "stdout",
          "text": [
            "Requirement already satisfied: transformers in /usr/local/lib/python3.10/dist-packages (4.41.2)\n",
            "Requirement already satisfied: filelock in /usr/local/lib/python3.10/dist-packages (from transformers) (3.14.0)\n",
            "Requirement already satisfied: huggingface-hub<1.0,>=0.23.0 in /usr/local/lib/python3.10/dist-packages (from transformers) (0.23.3)\n",
            "Requirement already satisfied: numpy>=1.17 in /usr/local/lib/python3.10/dist-packages (from transformers) (1.25.2)\n",
            "Requirement already satisfied: packaging>=20.0 in /usr/local/lib/python3.10/dist-packages (from transformers) (24.1)\n",
            "Requirement already satisfied: pyyaml>=5.1 in /usr/local/lib/python3.10/dist-packages (from transformers) (6.0.1)\n",
            "Requirement already satisfied: regex!=2019.12.17 in /usr/local/lib/python3.10/dist-packages (from transformers) (2024.5.15)\n",
            "Requirement already satisfied: requests in /usr/local/lib/python3.10/dist-packages (from transformers) (2.31.0)\n",
            "Requirement already satisfied: tokenizers<0.20,>=0.19 in /usr/local/lib/python3.10/dist-packages (from transformers) (0.19.1)\n",
            "Requirement already satisfied: safetensors>=0.4.1 in /usr/local/lib/python3.10/dist-packages (from transformers) (0.4.3)\n",
            "Requirement already satisfied: tqdm>=4.27 in /usr/local/lib/python3.10/dist-packages (from transformers) (4.66.4)\n",
            "Requirement already satisfied: fsspec>=2023.5.0 in /usr/local/lib/python3.10/dist-packages (from huggingface-hub<1.0,>=0.23.0->transformers) (2023.6.0)\n",
            "Requirement already satisfied: typing-extensions>=3.7.4.3 in /usr/local/lib/python3.10/dist-packages (from huggingface-hub<1.0,>=0.23.0->transformers) (4.12.2)\n",
            "Requirement already satisfied: charset-normalizer<4,>=2 in /usr/local/lib/python3.10/dist-packages (from requests->transformers) (3.3.2)\n",
            "Requirement already satisfied: idna<4,>=2.5 in /usr/local/lib/python3.10/dist-packages (from requests->transformers) (3.7)\n",
            "Requirement already satisfied: urllib3<3,>=1.21.1 in /usr/local/lib/python3.10/dist-packages (from requests->transformers) (2.0.7)\n",
            "Requirement already satisfied: certifi>=2017.4.17 in /usr/local/lib/python3.10/dist-packages (from requests->transformers) (2024.6.2)\n",
            "Requirement already satisfied: sentencepiece in /usr/local/lib/python3.10/dist-packages (0.1.99)\n"
          ]
        }
      ]
    },
    {
      "cell_type": "code",
      "source": [
        "! pip install streamlit -q\n"
      ],
      "metadata": {
        "colab": {
          "base_uri": "https://localhost:8080/"
        },
        "id": "dIql8KgbNSPH",
        "outputId": "79941ecf-0946-44e2-8f25-b592c73fb600"
      },
      "execution_count": null,
      "outputs": [
        {
          "output_type": "stream",
          "name": "stdout",
          "text": [
            "\u001b[2K     \u001b[90m━━━━━━━━━━━━━━━━━━━━━━━━━━━━━━━━━━━━━━━━\u001b[0m \u001b[32m8.6/8.6 MB\u001b[0m \u001b[31m22.1 MB/s\u001b[0m eta \u001b[36m0:00:00\u001b[0m\n",
            "\u001b[2K     \u001b[90m━━━━━━━━━━━━━━━━━━━━━━━━━━━━━━━━━━━━━━━━\u001b[0m \u001b[32m207.3/207.3 kB\u001b[0m \u001b[31m14.1 MB/s\u001b[0m eta \u001b[36m0:00:00\u001b[0m\n",
            "\u001b[2K     \u001b[90m━━━━━━━━━━━━━━━━━━━━━━━━━━━━━━━━━━━━━━━━\u001b[0m \u001b[32m6.9/6.9 MB\u001b[0m \u001b[31m28.5 MB/s\u001b[0m eta \u001b[36m0:00:00\u001b[0m\n",
            "\u001b[2K     \u001b[90m━━━━━━━━━━━━━━━━━━━━━━━━━━━━━━━━━━━━━━━━\u001b[0m \u001b[32m83.0/83.0 kB\u001b[0m \u001b[31m7.6 MB/s\u001b[0m eta \u001b[36m0:00:00\u001b[0m\n",
            "\u001b[2K     \u001b[90m━━━━━━━━━━━━━━━━━━━━━━━━━━━━━━━━━━━━━━━━\u001b[0m \u001b[32m62.7/62.7 kB\u001b[0m \u001b[31m1.7 MB/s\u001b[0m eta \u001b[36m0:00:00\u001b[0m\n",
            "\u001b[?25h"
          ]
        }
      ]
    },
    {
      "cell_type": "code",
      "source": [
        "!wget -q -O - ipv4.icanhazip.com\n"
      ],
      "metadata": {
        "colab": {
          "base_uri": "https://localhost:8080/"
        },
        "id": "49_qqANMNXzC",
        "outputId": "573d97f3-12fb-452f-919c-b9c4e1b560fd"
      },
      "execution_count": null,
      "outputs": [
        {
          "output_type": "stream",
          "name": "stdout",
          "text": [
            "34.85.241.159\n"
          ]
        }
      ]
    },
    {
      "cell_type": "code",
      "source": [
        "! streamlit run app1.py & npx localtunnel --port 8501\n"
      ],
      "metadata": {
        "colab": {
          "base_uri": "https://localhost:8080/"
        },
        "id": "iN0bNzsKNhp0",
        "outputId": "c9d5b768-d29b-4f44-f801-e12e4a1e575c"
      },
      "execution_count": null,
      "outputs": [
        {
          "output_type": "stream",
          "name": "stdout",
          "text": [
            "\n",
            "Collecting usage statistics. To deactivate, set browser.gatherUsageStats to false.\n",
            "\u001b[0m\n",
            "\u001b[K\u001b[?25hnpx: installed 22 in 4.424s\n",
            "your url is: https://clever-rabbits-camp.loca.lt\n",
            "\u001b[0m\n",
            "\u001b[34m\u001b[1m  You can now view your Streamlit app in your browser.\u001b[0m\n",
            "\u001b[0m\n",
            "\u001b[34m  Local URL: \u001b[0m\u001b[1mhttp://localhost:8501\u001b[0m\n",
            "\u001b[34m  Network URL: \u001b[0m\u001b[1mhttp://172.28.0.12:8501\u001b[0m\n",
            "\u001b[34m  External URL: \u001b[0m\u001b[1mhttp://34.85.241.159:8501\u001b[0m\n",
            "\u001b[0m\n",
            "2024-06-20 04:43:33.184204: E external/local_xla/xla/stream_executor/cuda/cuda_dnn.cc:9261] Unable to register cuDNN factory: Attempting to register factory for plugin cuDNN when one has already been registered\n",
            "2024-06-20 04:43:33.184277: E external/local_xla/xla/stream_executor/cuda/cuda_fft.cc:607] Unable to register cuFFT factory: Attempting to register factory for plugin cuFFT when one has already been registered\n",
            "2024-06-20 04:43:33.186663: E external/local_xla/xla/stream_executor/cuda/cuda_blas.cc:1515] Unable to register cuBLAS factory: Attempting to register factory for plugin cuBLAS when one has already been registered\n",
            "2024-06-20 04:43:33.206576: I tensorflow/core/platform/cpu_feature_guard.cc:182] This TensorFlow binary is optimized to use available CPU instructions in performance-critical operations.\n",
            "To enable the following instructions: AVX2 FMA, in other operations, rebuild TensorFlow with the appropriate compiler flags.\n",
            "2024-06-20 04:43:35.125684: W tensorflow/compiler/tf2tensorrt/utils/py_utils.cc:38] TF-TRT Warning: Could not find TensorRT\n",
            "config.json: 100% 1.39k/1.39k [00:00<00:00, 9.19MB/s]\n",
            "pytorch_model.bin: 100% 306M/306M [00:08<00:00, 34.2MB/s]\n",
            "generation_config.json: 100% 293/293 [00:00<00:00, 1.87MB/s]\n",
            "tokenizer_config.json: 100% 44.0/44.0 [00:00<00:00, 297kB/s]\n",
            "source.spm: 100% 812k/812k [00:00<00:00, 17.1MB/s]\n",
            "target.spm: 100% 1.07M/1.07M [00:00<00:00, 38.4MB/s]\n",
            "vocab.json: 100% 2.10M/2.10M [00:00<00:00, 103MB/s]\n",
            "/usr/local/lib/python3.10/dist-packages/transformers/models/marian/tokenization_marian.py:175: UserWarning: Recommended: pip install sacremoses.\n",
            "  warnings.warn(\"Recommended: pip install sacremoses.\")\n",
            "config.json: 100% 1.42k/1.42k [00:00<00:00, 10.1MB/s]\n",
            "pytorch_model.bin: 100% 301M/301M [00:07<00:00, 39.8MB/s]\n",
            "generation_config.json: 100% 293/293 [00:00<00:00, 1.19MB/s]\n",
            "tokenizer_config.json: 100% 42.0/42.0 [00:00<00:00, 210kB/s]\n",
            "source.spm: 100% 778k/778k [00:00<00:00, 28.6MB/s]\n",
            "target.spm: 100% 802k/802k [00:00<00:00, 33.6MB/s]\n",
            "vocab.json: 100% 1.34M/1.34M [00:00<00:00, 8.51MB/s]\n",
            "config.json: 100% 1.47k/1.47k [00:00<00:00, 5.54MB/s]\n",
            "pytorch_model.bin: 100% 312M/312M [00:07<00:00, 41.2MB/s]\n",
            "generation_config.json: 100% 293/293 [00:00<00:00, 1.06MB/s]\n",
            "tokenizer_config.json: 100% 44.0/44.0 [00:00<00:00, 123kB/s]\n",
            "source.spm: 100% 802k/802k [00:00<00:00, 17.3MB/s]\n",
            "target.spm: 100% 826k/826k [00:00<00:00, 29.1MB/s]\n",
            "vocab.json: 100% 1.59M/1.59M [00:00<00:00, 14.9MB/s]\n",
            "config.json: 100% 1.33k/1.33k [00:00<00:00, 7.03MB/s]\n",
            "pytorch_model.bin: 100% 298M/298M [00:07<00:00, 41.3MB/s]\n",
            "generation_config.json: 100% 293/293 [00:00<00:00, 1.27MB/s]\n",
            "tokenizer_config.json: 100% 42.0/42.0 [00:00<00:00, 208kB/s]\n",
            "source.spm: 100% 768k/768k [00:00<00:00, 30.1MB/s]\n",
            "target.spm: 100% 797k/797k [00:00<00:00, 31.3MB/s]\n",
            "vocab.json: 100% 1.27M/1.27M [00:00<00:00, 10.8MB/s]\n",
            "[{'translation_text': 'आर्दिया एक बड़ा देश है'}]\n",
            "[{'translation_text': 'Inde est un grand pays'}]\n",
            "[{'translation_text': 'India es un gran país'}]\n",
            "[{'translation_text': 'Indien ist ein großartiges Land'}]\n",
            "[{'translation_text': 'आर्दिया एक बड़ा देश है'}]\n",
            "[{'translation_text': 'Inde est un grand pays'}]\n",
            "[{'translation_text': 'India es un gran país'}]\n",
            "[{'translation_text': 'Indien ist ein großartiges Land'}]\n",
            "[{'translation_text': 'आर्दिया एक बड़ा देश है'}]\n",
            "[{'translation_text': 'Inde est un grand pays'}]\n",
            "[{'translation_text': 'India es un gran país'}]\n",
            "[{'translation_text': 'Indien ist ein großartiges Land'}]\n",
            "[{'translation_text': 'आर्दिया एक बड़ा देश है'}]\n",
            "[{'translation_text': 'Inde est un grand pays'}]\n",
            "[{'translation_text': 'India es un gran país'}]\n",
            "[{'translation_text': 'Indien ist ein großartiges Land'}]\n",
            "[{'translation_text': 'आर्दिया एक बड़ा देश है'}]\n",
            "[{'translation_text': 'Inde est un grand pays'}]\n",
            "[{'translation_text': 'India es un gran país'}]\n",
            "[{'translation_text': 'Indien ist ein großartiges Land'}]\n",
            "\u001b[34m  Stopping...\u001b[0m\n",
            "^C\n"
          ]
        }
      ]
    }
  ]
}